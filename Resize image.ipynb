{
 "cells": [
  {
   "cell_type": "code",
   "execution_count": 1,
   "metadata": {},
   "outputs": [],
   "source": [
    "import cv2"
   ]
  },
  {
   "cell_type": "code",
   "execution_count": 3,
   "metadata": {},
   "outputs": [
    {
     "name": "stdout",
     "output_type": "stream",
     "text": [
      "initial size of image is 477984 \n",
      "initial size of image is 10800 \n",
      "initial size of image is 323340 \n",
      "initial size of image is 10800 \n",
      "initial size of image is 257472 \n",
      "initial size of image is 10800 \n",
      "initial size of image is 210600 \n",
      "initial size of image is 10800 \n"
     ]
    }
   ],
   "source": [
    "i=1\n",
    "while i<5:\n",
    "    img=cv2.imread(str(i)+\".bmp\")\n",
    "    print(\"initial size of image is {} \".format(img.size))\n",
    "    img2=cv2.resize(img,(60,60))\n",
    "    print(\"initial size of image is {} \".format(img2.size))\n",
    "    cv2.imwrite(str(i)+\"2.bmp\",img2)\n",
    "    i+=1"
   ]
  },
  {
   "cell_type": "code",
   "execution_count": null,
   "metadata": {},
   "outputs": [],
   "source": []
  }
 ],
 "metadata": {
  "kernelspec": {
   "display_name": "Python 3 (ipykernel)",
   "language": "python",
   "name": "python3"
  },
  "language_info": {
   "codemirror_mode": {
    "name": "ipython",
    "version": 3
   },
   "file_extension": ".py",
   "mimetype": "text/x-python",
   "name": "python",
   "nbconvert_exporter": "python",
   "pygments_lexer": "ipython3",
   "version": "3.11.5"
  }
 },
 "nbformat": 4,
 "nbformat_minor": 2
}
