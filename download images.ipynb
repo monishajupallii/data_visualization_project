{
 "cells": [
  {
   "cell_type": "code",
   "execution_count": 2,
   "metadata": {},
   "outputs": [],
   "source": [
    "#importing req dependencies\n",
    "import urllib.request\n",
    "import cv2\n",
    "import numpy as np\n",
    "import os"
   ]
  },
  {
   "cell_type": "code",
   "execution_count": 6,
   "metadata": {},
   "outputs": [],
   "source": [
    "def stores_raw_images():\n",
    "    neg_images_link=\"http://www.image-net.org//api/text//imagenet.synset.geturls?wnid=n07942152\"\n",
    "    neg_image_urls=urllib.request.urlopen(neg_images_link).read().decode()\n",
    "    pic_num=1\n",
    "    \n",
    "    if not os.path.exists(\"nega\"):\n",
    "        os.makedirs(\"nega\")\n",
    "    \n",
    "    for i in neg_image_urls.split(\"\\n\"):\n",
    "        try:\n",
    "            print(i)\n",
    "            urllib.request.urlretrieve(i,\"nega/\"+str(pic_num)+\".jpg\")\n",
    "            img=cv2.imread(\"nega/\"+str(pic_num)+\".jpg\",cv2.IMREAD_GRAYSCALE)\n",
    "            \n",
    "            #should be larger than our samples/positive pics\n",
    "            resize_image=cv2.resize(img,(100,100))\n",
    "            \n",
    "            cv2.imwrite(\"nega/\"+str(pic_num)+\".jpg\",resize_image)\n",
    "            pic_num+=1\n",
    "        except Exception as e:\n",
    "            print(str(e))\n",
    "        "
   ]
  },
  {
   "cell_type": "code",
   "execution_count": null,
   "metadata": {},
   "outputs": [
    {
     "name": "stdout",
     "output_type": "stream",
     "text": [
      "http://farm4.static.flickr.com/3186/2606823711_b07495378f.jpg\n",
      "http://farm4.static.flickr.com/3360/3236502886_6a505502c5.jpg\n",
      "http://farm5.static.flickr.com/4022/4322083945_bc2db8ccf3.jpg\n",
      "http://farm4.static.flickr.com/3121/2556445732_0f905b11e4.jpg\n",
      "http://farm4.static.flickr.com/3551/3443533285_2a70b92f2c.jpg\n",
      "http://farm1.static.flickr.com/224/491407069_8dbdc006c4.jpg\n",
      "http://farm1.static.flickr.com/33/42539714_c899059d27.jpg\n",
      "http://farm4.static.flickr.com/3512/3248952529_0bda5b70eb.jpg\n",
      "http://farm3.static.flickr.com/2461/3707202944_74e7a04f77.jpg\n",
      "http://farm4.static.flickr.com/3053/2664253302_956cb8356d.jpg\n",
      "http://farm4.static.flickr.com/3236/3060322139_39a255d95c.jpg\n",
      "http://farm1.static.flickr.com/150/406427892_3776e7e6ef.jpg\n",
      "http://farm4.static.flickr.com/3609/4008974057_d0d7989bda.jpg\n",
      "http://farm4.static.flickr.com/3055/2658058589_618ac5486b.jpg\n",
      "http://farm3.static.flickr.com/2620/4205522549_02cbdc5c40.jpg\n",
      "http://farm4.static.flickr.com/3309/3615966336_1f0c670b76.jpg\n",
      "http://farm4.static.flickr.com/3278/2940713745_7f3ed00c42.jpg\n",
      "http://farm4.static.flickr.com/3446/3244281742_3c6af3fef7.jpg\n",
      "http://farm5.static.flickr.com/4055/4341618942_d58380e108.jpg\n",
      "http://farm4.static.flickr.com/3247/2456407185_a85ed79cf0.jpg\n",
      "http://farm4.static.flickr.com/3023/2554686195_b6cfcd0997.jpg\n",
      "http://farm3.static.flickr.com/2594/3928557326_98ef357a61.jpg\n",
      "http://farm4.static.flickr.com/3079/2550977006_8b43dcc10a.jpg\n",
      "http://farm3.static.flickr.com/2522/3848307705_4fe2f5f6d9.jpg\n",
      "http://farm4.static.flickr.com/3189/2727722446_1e0f655637.jpg\n",
      "http://farm1.static.flickr.com/28/42545070_3fe3f4bc9e.jpg\n",
      "http://farm4.static.flickr.com/3268/3334495129_118edb06e5.jpg\n",
      "http://farm1.static.flickr.com/52/107467510_3194b29103.jpg\n",
      "http://farm4.static.flickr.com/3412/3455545709_6710137b4f.jpg\n",
      "http://farm4.static.flickr.com/3101/2586177352_dcee1907a3.jpg\n",
      "http://farm1.static.flickr.com/50/139849448_31b9ebcd90.jpg\n",
      "http://farm5.static.flickr.com/4072/4275696698_d8014d9e98.jpg\n",
      "http://farm3.static.flickr.com/2586/4123725202_1edbc6dc26.jpg\n"
     ]
    }
   ],
   "source": [
    "stores_raw_images()"
   ]
  },
  {
   "cell_type": "code",
   "execution_count": null,
   "metadata": {},
   "outputs": [],
   "source": []
  },
  {
   "cell_type": "code",
   "execution_count": null,
   "metadata": {},
   "outputs": [],
   "source": []
  },
  {
   "cell_type": "code",
   "execution_count": null,
   "metadata": {},
   "outputs": [],
   "source": []
  },
  {
   "cell_type": "code",
   "execution_count": null,
   "metadata": {},
   "outputs": [],
   "source": []
  },
  {
   "cell_type": "code",
   "execution_count": null,
   "metadata": {},
   "outputs": [],
   "source": []
  },
  {
   "cell_type": "code",
   "execution_count": null,
   "metadata": {},
   "outputs": [],
   "source": []
  },
  {
   "cell_type": "code",
   "execution_count": null,
   "metadata": {},
   "outputs": [],
   "source": []
  },
  {
   "cell_type": "code",
   "execution_count": null,
   "metadata": {},
   "outputs": [],
   "source": []
  }
 ],
 "metadata": {
  "kernelspec": {
   "display_name": "Python 3 (ipykernel)",
   "language": "python",
   "name": "python3"
  },
  "language_info": {
   "codemirror_mode": {
    "name": "ipython",
    "version": 3
   },
   "file_extension": ".py",
   "mimetype": "text/x-python",
   "name": "python",
   "nbconvert_exporter": "python",
   "pygments_lexer": "ipython3",
   "version": "3.11.5"
  }
 },
 "nbformat": 4,
 "nbformat_minor": 2
}
