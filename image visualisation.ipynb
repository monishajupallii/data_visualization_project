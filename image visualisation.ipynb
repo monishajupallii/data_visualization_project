{
 "cells": [
  {
   "cell_type": "code",
   "execution_count": 1,
   "id": "f9388727",
   "metadata": {},
   "outputs": [],
   "source": [
    "import cv2\n",
    "import numpy"
   ]
  },
  {
   "cell_type": "code",
   "execution_count": 2,
   "id": "57d8bc91",
   "metadata": {},
   "outputs": [],
   "source": [
    "img=cv2.imread(\"face.jpg\")"
   ]
  },
  {
   "cell_type": "code",
   "execution_count": 3,
   "id": "7b7b1f09",
   "metadata": {},
   "outputs": [
    {
     "data": {
      "text/plain": [
       "array([[[220, 220, 220],\n",
       "        [220, 220, 220],\n",
       "        [221, 221, 221],\n",
       "        ...,\n",
       "        [219, 220, 218],\n",
       "        [212, 213, 211],\n",
       "        [206, 207, 205]],\n",
       "\n",
       "       [[221, 221, 221],\n",
       "        [221, 221, 221],\n",
       "        [222, 222, 222],\n",
       "        ...,\n",
       "        [225, 226, 224],\n",
       "        [221, 222, 220],\n",
       "        [216, 217, 215]],\n",
       "\n",
       "       [[223, 223, 223],\n",
       "        [223, 223, 223],\n",
       "        [223, 223, 223],\n",
       "        ...,\n",
       "        [229, 230, 228],\n",
       "        [227, 228, 226],\n",
       "        [225, 226, 224]],\n",
       "\n",
       "       ...,\n",
       "\n",
       "       [[215, 215, 215],\n",
       "        [219, 219, 219],\n",
       "        [222, 222, 222],\n",
       "        ...,\n",
       "        [222, 222, 222],\n",
       "        [218, 218, 218],\n",
       "        [214, 214, 214]],\n",
       "\n",
       "       [[205, 205, 205],\n",
       "        [214, 214, 214],\n",
       "        [221, 221, 221],\n",
       "        ...,\n",
       "        [224, 224, 224],\n",
       "        [220, 220, 220],\n",
       "        [216, 216, 216]],\n",
       "\n",
       "       [[198, 198, 198],\n",
       "        [211, 211, 211],\n",
       "        [221, 221, 221],\n",
       "        ...,\n",
       "        [226, 226, 226],\n",
       "        [222, 222, 222],\n",
       "        [218, 218, 218]]], dtype=uint8)"
      ]
     },
     "execution_count": 3,
     "metadata": {},
     "output_type": "execute_result"
    }
   ],
   "source": [
    "img"
   ]
  },
  {
   "cell_type": "code",
   "execution_count": 4,
   "id": "40b4fce8",
   "metadata": {},
   "outputs": [],
   "source": [
    "h,w,d=img.shape #height,width and depth"
   ]
  },
  {
   "cell_type": "code",
   "execution_count": 5,
   "id": "f75e65bb",
   "metadata": {},
   "outputs": [
    {
     "name": "stdout",
     "output_type": "stream",
     "text": [
      "width is 1024,height is 1024,depth is 3\n"
     ]
    }
   ],
   "source": [
    "print(\"width is {},height is {},depth is {}\".format(w,h,d))"
   ]
  },
  {
   "cell_type": "code",
   "execution_count": null,
   "id": "09dc6c99",
   "metadata": {},
   "outputs": [],
   "source": [
    "#display image\n",
    "cv2.imshow(\"img\",img)\n",
    "cv2.waitKey(0)\n",
    "cv2.destroyAllWindows()"
   ]
  },
  {
   "cell_type": "code",
   "execution_count": null,
   "id": "3be13c00",
   "metadata": {},
   "outputs": [],
   "source": []
  },
  {
   "cell_type": "markdown",
   "id": "b9f4f655",
   "metadata": {},
   "source": [
    "# access the individual pixel at x=145 and y=145"
   ]
  },
  {
   "cell_type": "code",
   "execution_count": 6,
   "id": "581e4829",
   "metadata": {},
   "outputs": [],
   "source": [
    "(B,G,R)=img[145,145]"
   ]
  },
  {
   "cell_type": "code",
   "execution_count": 7,
   "id": "50b45095",
   "metadata": {},
   "outputs": [
    {
     "name": "stdout",
     "output_type": "stream",
     "text": [
      "value of R is214,value of G is212,value of B is 213\n"
     ]
    }
   ],
   "source": [
    "print(\"value of R is{},value of G is{},value of B is {}\".format(R,G,B))"
   ]
  },
  {
   "cell_type": "markdown",
   "id": "56c6124d",
   "metadata": {},
   "source": [
    "# Array slicing and cropping"
   ]
  },
  {
   "cell_type": "code",
   "execution_count": 8,
   "id": "cd9dd61f",
   "metadata": {},
   "outputs": [],
   "source": [
    "roi=img[60:160,100:200]\n",
    "cv2.imshow(\"roi\",roi)\n",
    "cv2.waitKey(0)\n",
    "cv2.destroyAllWindows()"
   ]
  },
  {
   "cell_type": "markdown",
   "id": "d1fff456",
   "metadata": {},
   "source": [
    "# Resize images"
   ]
  },
  {
   "cell_type": "code",
   "execution_count": 9,
   "id": "722d3c2b",
   "metadata": {},
   "outputs": [],
   "source": [
    "resized=cv2.resize(img,(200,200))"
   ]
  },
  {
   "cell_type": "code",
   "execution_count": 10,
   "id": "4bdc67c3",
   "metadata": {},
   "outputs": [],
   "source": [
    "cv2.imshow(\"resized img\",resized)\n",
    "cv2.waitKey(0)\n",
    "cv2.destroyAllWindows()"
   ]
  },
  {
   "cell_type": "markdown",
   "id": "d8019e5c",
   "metadata": {},
   "source": [
    " # Rotate an Image"
   ]
  },
  {
   "cell_type": "code",
   "execution_count": 16,
   "id": "9dc9e4a3",
   "metadata": {},
   "outputs": [],
   "source": [
    "center=(w//2,h//2)\n",
    "m=cv2.getRotationMatrix2D(center,-45,1.0)\n",
    "rotated_img=cv2.warpAffine(img,m,(w,h))\n",
    "cv2.imshow(\"Rotated image\",rotated_img)\n",
    "cv2.waitKey(0)\n",
    "cv2.destroyAllWindows()"
   ]
  },
  {
   "cell_type": "markdown",
   "id": "c864f2a6",
   "metadata": {},
   "source": [
    "# Smoothning an Image"
   ]
  },
  {
   "cell_type": "code",
   "execution_count": 17,
   "id": "76118b53",
   "metadata": {},
   "outputs": [],
   "source": [
    "blurred=cv2.GaussianBlur(img,(111,111),0)  #11,11 is the kernel  Larger kernels coresponds to more Blurry Images\n",
    "cv2.imshow(\"Blurred \",blurred)\n",
    "cv2.waitKey(0)\n",
    "cv2.destroyAllWindows()"
   ]
  },
  {
   "cell_type": "markdown",
   "id": "5589242a",
   "metadata": {},
   "source": [
    "# Drawing an Rectangle"
   ]
  },
  {
   "cell_type": "code",
   "execution_count": 18,
   "id": "2de3dbb5",
   "metadata": {},
   "outputs": [],
   "source": [
    "recimage=img.copy()\n",
    "cv2.rectangle(recimage,(122,122),(190,190),(0,0,225),2)\n",
    "cv2.imshow(\"rectangle\",recimage)\n",
    "cv2.waitKey(0)\n",
    "cv2.destroyAllWindows()"
   ]
  },
  {
   "cell_type": "markdown",
   "id": "be9ab95b",
   "metadata": {},
   "source": [
    "# Drawing a circle"
   ]
  },
  {
   "cell_type": "markdown",
   "id": "952fe4c8",
   "metadata": {},
   "source": []
  },
  {
   "cell_type": "code",
   "execution_count": 19,
   "id": "675d6ae3",
   "metadata": {},
   "outputs": [],
   "source": [
    "circleimg=img.copy()\n",
    "cv2.circle(circleimg,(120,120),40,(0,0,225),2)\n",
    "cv2.imshow(\"circle\",circleimg)\n",
    "cv2.waitKey(0)\n",
    "cv2.destroyAllWindows()\n"
   ]
  },
  {
   "cell_type": "markdown",
   "id": "3f775d7a",
   "metadata": {},
   "source": [
    "# Drawing a Line"
   ]
  },
  {
   "cell_type": "code",
   "execution_count": 20,
   "id": "a30fc7fc",
   "metadata": {},
   "outputs": [],
   "source": [
    "lineimg=img.copy()\n",
    "cv2.line(lineimg,(120,120),(200,200),(0,0,225),12)\n",
    "cv2.imshow(\"line\",lineimg)\n",
    "cv2.waitKey()\n",
    "cv2.destroyAllWindows()"
   ]
  },
  {
   "cell_type": "markdown",
   "id": "34f60bef",
   "metadata": {},
   "source": [
    "# PutText Function"
   ]
  },
  {
   "cell_type": "code",
   "execution_count": 21,
   "id": "9352d482",
   "metadata": {},
   "outputs": [],
   "source": [
    "newimg=img.copy()\n",
    "cv2.putText(newimg,\"bhagyashri\",(50,120),cv2.FONT_HERSHEY_SIMPLEX,0.7,(0,0,225),2)\n",
    "cv2.imshow(\"putText Fuction\",newimg)\n",
    "cv2.waitKey(0)\n",
    "cv2.destroyAllWindows()\n"
   ]
  },
  {
   "cell_type": "markdown",
   "id": "87ef60fd",
   "metadata": {},
   "source": [
    " # Converting an image into Grayscale"
   ]
  },
  {
   "cell_type": "code",
   "execution_count": 22,
   "id": "85fae9dc",
   "metadata": {},
   "outputs": [],
   "source": [
    "grayimg=cv2.cvtColor(img,cv2.COLOR_BGR2GRAY)\n",
    "cv2.imshow(\"gray image\",grayimg)\n",
    "cv2.waitKey(0)\n",
    "cv2.destroyAllWindows()\n"
   ]
  },
  {
   "cell_type": "code",
   "execution_count": 23,
   "id": "14bb4057",
   "metadata": {},
   "outputs": [
    {
     "data": {
      "text/plain": [
       "3145728"
      ]
     },
     "execution_count": 23,
     "metadata": {},
     "output_type": "execute_result"
    }
   ],
   "source": [
    "img.size"
   ]
  },
  {
   "cell_type": "code",
   "execution_count": 24,
   "id": "18bb1c4c",
   "metadata": {},
   "outputs": [
    {
     "data": {
      "text/plain": [
       "1048576"
      ]
     },
     "execution_count": 24,
     "metadata": {},
     "output_type": "execute_result"
    }
   ],
   "source": [
    "grayimg.size"
   ]
  },
  {
   "cell_type": "markdown",
   "id": "a55cc688",
   "metadata": {},
   "source": [
    "# Edge Detection "
   ]
  },
  {
   "cell_type": "code",
   "execution_count": 25,
   "id": "76ffb6b8",
   "metadata": {},
   "outputs": [],
   "source": [
    "edge=cv2.Canny(grayimg,30,150)\n",
    "cv2.imshow(\"edge\",edge)\n",
    "cv2.waitKey(0)\n",
    "cv2.destroyAllWindows()"
   ]
  },
  {
   "cell_type": "markdown",
   "id": "b4338f32",
   "metadata": {},
   "source": [
    " # K means clustering"
   ]
  },
  {
   "cell_type": "code",
   "execution_count": 26,
   "id": "dd9f71b1",
   "metadata": {},
   "outputs": [],
   "source": [
    "import numpy as np\n",
    "import cv2\n",
    "from matplotlib import pyplot as plt"
   ]
  },
  {
   "cell_type": "code",
   "execution_count": 27,
   "id": "7a84fda9",
   "metadata": {},
   "outputs": [],
   "source": [
    "x=np.random.randint(25,100,25)\n",
    "y=np.random.randint(175,255,25)\n",
    "z=np.hstack((x,y))"
   ]
  },
  {
   "cell_type": "code",
   "execution_count": 28,
   "id": "890bb023",
   "metadata": {},
   "outputs": [
    {
     "data": {
      "text/plain": [
       "array([221, 196, 252, 229, 248, 221, 183, 177, 175, 192, 186, 219, 202,\n",
       "       195, 216, 198, 184, 244, 252, 226, 238, 231, 198, 223, 212])"
      ]
     },
     "execution_count": 28,
     "metadata": {},
     "output_type": "execute_result"
    }
   ],
   "source": [
    "y"
   ]
  },
  {
   "cell_type": "code",
   "execution_count": 29,
   "id": "36f34362",
   "metadata": {},
   "outputs": [
    {
     "data": {
      "text/plain": [
       "array([ 34,  84,  40,  59,  70,  48,  26,  91,  29,  86,  81,  49,  50,\n",
       "        38,  86,  95,  87,  30,  48,  90,  73,  99,  98,  64,  92, 221,\n",
       "       196, 252, 229, 248, 221, 183, 177, 175, 192, 186, 219, 202, 195,\n",
       "       216, 198, 184, 244, 252, 226, 238, 231, 198, 223, 212])"
      ]
     },
     "execution_count": 29,
     "metadata": {},
     "output_type": "execute_result"
    }
   ],
   "source": [
    "z"
   ]
  },
  {
   "cell_type": "code",
   "execution_count": 30,
   "id": "0597e0de",
   "metadata": {},
   "outputs": [],
   "source": [
    "z=z.reshape((50,1))"
   ]
  },
  {
   "cell_type": "code",
   "execution_count": 31,
   "id": "80ca7141",
   "metadata": {},
   "outputs": [
    {
     "data": {
      "text/plain": [
       "array([[ 34],\n",
       "       [ 84],\n",
       "       [ 40],\n",
       "       [ 59],\n",
       "       [ 70],\n",
       "       [ 48],\n",
       "       [ 26],\n",
       "       [ 91],\n",
       "       [ 29],\n",
       "       [ 86],\n",
       "       [ 81],\n",
       "       [ 49],\n",
       "       [ 50],\n",
       "       [ 38],\n",
       "       [ 86],\n",
       "       [ 95],\n",
       "       [ 87],\n",
       "       [ 30],\n",
       "       [ 48],\n",
       "       [ 90],\n",
       "       [ 73],\n",
       "       [ 99],\n",
       "       [ 98],\n",
       "       [ 64],\n",
       "       [ 92],\n",
       "       [221],\n",
       "       [196],\n",
       "       [252],\n",
       "       [229],\n",
       "       [248],\n",
       "       [221],\n",
       "       [183],\n",
       "       [177],\n",
       "       [175],\n",
       "       [192],\n",
       "       [186],\n",
       "       [219],\n",
       "       [202],\n",
       "       [195],\n",
       "       [216],\n",
       "       [198],\n",
       "       [184],\n",
       "       [244],\n",
       "       [252],\n",
       "       [226],\n",
       "       [238],\n",
       "       [231],\n",
       "       [198],\n",
       "       [223],\n",
       "       [212]])"
      ]
     },
     "execution_count": 31,
     "metadata": {},
     "output_type": "execute_result"
    }
   ],
   "source": [
    "z"
   ]
  },
  {
   "cell_type": "code",
   "execution_count": 32,
   "id": "dae41b30",
   "metadata": {},
   "outputs": [],
   "source": [
    "z=np.float32(z)"
   ]
  },
  {
   "cell_type": "code",
   "execution_count": 33,
   "id": "8e0437e7",
   "metadata": {},
   "outputs": [
    {
     "data": {
      "image/png": "[encoded data removed]",
      "text/plain": [
       "<Figure size 640x480 with 1 Axes>"
      ]
     },
     "metadata": {},
     "output_type": "display_data"
    }
   ],
   "source": [
    "plt.hist(z,256,[0,256])\n",
    "plt.show()"
   ]
  },
  {
   "cell_type": "code",
   "execution_count": 34,
   "id": "4c64895c",
   "metadata": {},
   "outputs": [],
   "source": [
    "#define criteria\n",
    "criteria=(cv2.TERM_CRITERIA_EPS+cv2.TERM_CRITERIA_MAX_ITER,10,1)\n",
    "\n",
    "flags=cv2.KMEANS_RANDOM_CENTERS\n",
    "\n",
    "#Apply KMeans\n",
    "compactness,labels,centers=cv2.kmeans(z,2,None,criteria,10,flags)"
   ]
  },
  {
   "cell_type": "code",
   "execution_count": 35,
   "id": "fe06b4ae",
   "metadata": {},
   "outputs": [
    {
     "data": {
      "text/plain": [
       "28389.67971789837"
      ]
     },
     "execution_count": 35,
     "metadata": {},
     "output_type": "execute_result"
    }
   ],
   "source": [
    "compactness"
   ]
  },
  {
   "cell_type": "code",
   "execution_count": 36,
   "id": "33fbb124",
   "metadata": {},
   "outputs": [
    {
     "data": {
      "text/plain": [
       "array([[0],\n",
       "       [0],\n",
       "       [0],\n",
       "       [0],\n",
       "       [0],\n",
       "       [0],\n",
       "       [0],\n",
       "       [0],\n",
       "       [0],\n",
       "       [0],\n",
       "       [0],\n",
       "       [0],\n",
       "       [0],\n",
       "       [0],\n",
       "       [0],\n",
       "       [0],\n",
       "       [0],\n",
       "       [0],\n",
       "       [0],\n",
       "       [0],\n",
       "       [0],\n",
       "       [0],\n",
       "       [0],\n",
       "       [0],\n",
       "       [0],\n",
       "       [1],\n",
       "       [1],\n",
       "       [1],\n",
       "       [1],\n",
       "       [1],\n",
       "       [1],\n",
       "       [1],\n",
       "       [1],\n",
       "       [1],\n",
       "       [1],\n",
       "       [1],\n",
       "       [1],\n",
       "       [1],\n",
       "       [1],\n",
       "       [1],\n",
       "       [1],\n",
       "       [1],\n",
       "       [1],\n",
       "       [1],\n",
       "       [1],\n",
       "       [1],\n",
       "       [1],\n",
       "       [1],\n",
       "       [1],\n",
       "       [1]], dtype=int32)"
      ]
     },
     "execution_count": 36,
     "metadata": {},
     "output_type": "execute_result"
    }
   ],
   "source": [
    "labels"
   ]
  },
  {
   "cell_type": "code",
   "execution_count": 37,
   "id": "e1b35b78",
   "metadata": {},
   "outputs": [
    {
     "data": {
      "text/plain": [
       "array([[ 65.88],\n",
       "       [212.72]], dtype=float32)"
      ]
     },
     "execution_count": 37,
     "metadata": {},
     "output_type": "execute_result"
    }
   ],
   "source": [
    "centers"
   ]
  },
  {
   "cell_type": "code",
   "execution_count": 38,
   "id": "c92b421c",
   "metadata": {},
   "outputs": [],
   "source": [
    "#splitting data depending on their labels\n",
    "A=z[labels==0]\n",
    "B=z[labels==1]"
   ]
  },
  {
   "cell_type": "code",
   "execution_count": 39,
   "id": "3a09861b",
   "metadata": {},
   "outputs": [
    {
     "data": {
      "image/png": "[encoded data removed]",
      "text/plain": [
       "<Figure size 640x480 with 1 Axes>"
      ]
     },
     "metadata": {},
     "output_type": "display_data"
    }
   ],
   "source": [
    "#A as red,  B as blue, centers in yellow\n",
    "plt.hist(A,256,[0,256],color=\"r\")\n",
    "plt.hist(B,256,[0,256],color=\"b\")\n",
    "plt.hist(centers,32,[0,256],color=\"y\")\n",
    "plt.show()"
   ]
  },
  {
   "cell_type": "markdown",
   "id": "b2cfe86c",
   "metadata": {},
   "source": [
    "# Data with multiple features"
   ]
  },
  {
   "cell_type": "code",
   "execution_count": 40,
   "id": "dfda5ca0",
   "metadata": {},
   "outputs": [],
   "source": [
    "X=np.random.randint(25,50,(25,2))\n",
    "Y=np.random.randint(60,85,(25,2))\n",
    "\n",
    "Z=np.vstack((X,Y))"
   ]
  },
  {
   "cell_type": "code",
   "execution_count": 41,
   "id": "dc42058c",
   "metadata": {},
   "outputs": [
    {
     "data": {
      "text/plain": [
       "array([[ 34.],\n",
       "       [ 84.],\n",
       "       [ 40.],\n",
       "       [ 59.],\n",
       "       [ 70.],\n",
       "       [ 48.],\n",
       "       [ 26.],\n",
       "       [ 91.],\n",
       "       [ 29.],\n",
       "       [ 86.],\n",
       "       [ 81.],\n",
       "       [ 49.],\n",
       "       [ 50.],\n",
       "       [ 38.],\n",
       "       [ 86.],\n",
       "       [ 95.],\n",
       "       [ 87.],\n",
       "       [ 30.],\n",
       "       [ 48.],\n",
       "       [ 90.],\n",
       "       [ 73.],\n",
       "       [ 99.],\n",
       "       [ 98.],\n",
       "       [ 64.],\n",
       "       [ 92.],\n",
       "       [221.],\n",
       "       [196.],\n",
       "       [252.],\n",
       "       [229.],\n",
       "       [248.],\n",
       "       [221.],\n",
       "       [183.],\n",
       "       [177.],\n",
       "       [175.],\n",
       "       [192.],\n",
       "       [186.],\n",
       "       [219.],\n",
       "       [202.],\n",
       "       [195.],\n",
       "       [216.],\n",
       "       [198.],\n",
       "       [184.],\n",
       "       [244.],\n",
       "       [252.],\n",
       "       [226.],\n",
       "       [238.],\n",
       "       [231.],\n",
       "       [198.],\n",
       "       [223.],\n",
       "       [212.]], dtype=float32)"
      ]
     },
     "execution_count": 41,
     "metadata": {},
     "output_type": "execute_result"
    }
   ],
   "source": [
    "z"
   ]
  },
  {
   "cell_type": "code",
   "execution_count": 42,
   "id": "63dfe950",
   "metadata": {},
   "outputs": [],
   "source": [
    "Z=np.float32(Z)\n",
    "\n",
    "#Define criteria and apply kmeans\n",
    "\n",
    "criteria=(cv2.TERM_CRITERIA_EPS+cv2.TERM_CRITERIA_MAX_ITER,10,1)\n",
    "ret,label,center=cv2.kmeans(Z,2,None,criteria,10,cv2.KMEANS_RANDOM_CENTERS)"
   ]
  },
  {
   "cell_type": "code",
   "execution_count": 43,
   "id": "273c033e",
   "metadata": {},
   "outputs": [
    {
     "data": {
      "text/plain": [
       "4696.080044269562"
      ]
     },
     "execution_count": 43,
     "metadata": {},
     "output_type": "execute_result"
    }
   ],
   "source": [
    "ret"
   ]
  },
  {
   "cell_type": "code",
   "execution_count": 44,
   "id": "4661e832",
   "metadata": {},
   "outputs": [
    {
     "data": {
      "text/plain": [
       "array([[1],\n",
       "       [1],\n",
       "       [1],\n",
       "       [1],\n",
       "       [1],\n",
       "       [1],\n",
       "       [1],\n",
       "       [1],\n",
       "       [1],\n",
       "       [1],\n",
       "       [1],\n",
       "       [1],\n",
       "       [1],\n",
       "       [1],\n",
       "       [1],\n",
       "       [1],\n",
       "       [1],\n",
       "       [1],\n",
       "       [1],\n",
       "       [1],\n",
       "       [1],\n",
       "       [1],\n",
       "       [1],\n",
       "       [1],\n",
       "       [1],\n",
       "       [0],\n",
       "       [0],\n",
       "       [0],\n",
       "       [0],\n",
       "       [0],\n",
       "       [0],\n",
       "       [0],\n",
       "       [0],\n",
       "       [0],\n",
       "       [0],\n",
       "       [0],\n",
       "       [0],\n",
       "       [0],\n",
       "       [0],\n",
       "       [0],\n",
       "       [0],\n",
       "       [0],\n",
       "       [0],\n",
       "       [0],\n",
       "       [0],\n",
       "       [0],\n",
       "       [0],\n",
       "       [0],\n",
       "       [0],\n",
       "       [0]], dtype=int32)"
      ]
     },
     "execution_count": 44,
     "metadata": {},
     "output_type": "execute_result"
    }
   ],
   "source": [
    "label"
   ]
  },
  {
   "cell_type": "code",
   "execution_count": 45,
   "id": "33c5c385",
   "metadata": {},
   "outputs": [
    {
     "data": {
      "text/plain": [
       "array([[72.28    , 71.08    ],\n",
       "       [34.16    , 35.079998]], dtype=float32)"
      ]
     },
     "execution_count": 45,
     "metadata": {},
     "output_type": "execute_result"
    }
   ],
   "source": [
    "center"
   ]
  },
  {
   "cell_type": "code",
   "execution_count": 46,
   "id": "f49f31f6",
   "metadata": {},
   "outputs": [],
   "source": [
    "#Separate data\n",
    "A=Z[label.ravel()==0]\n",
    "B=Z[label.ravel()==1]"
   ]
  },
  {
   "cell_type": "code",
   "execution_count": 47,
   "id": "66dd5f86",
   "metadata": {},
   "outputs": [
    {
     "data": {
      "image/png": "[encoded data removed]",
      "text/plain": [
       "<Figure size 640x480 with 1 Axes>"
      ]
     },
     "metadata": {},
     "output_type": "display_data"
    }
   ],
   "source": [
    "#Plot data\n",
    "plt.scatter(A[:,0],A[:,1])\n",
    "plt.scatter(B[:,0],B[:,1],c=\"r\")\n",
    "plt.scatter(center[:,0],center[:,1],s=80,c=\"y\",marker=\"s\")\n",
    "plt.xlabel(\"Feature 1\")\n",
    "plt.ylabel(\"Feature 2\")\n",
    "plt.show()"
   ]
  },
  {
   "cell_type": "markdown",
   "id": "2ff10f43",
   "metadata": {},
   "source": [
    "# Color Quantization"
   ]
  },
  {
   "cell_type": "code",
   "execution_count": 1,
   "id": "37ad9d9c",
   "metadata": {},
   "outputs": [],
   "source": [
    "import numpy as np\n",
    "import cv2\n",
    "\n",
    "img = cv2.imread('face.jpg')\n",
    "Z = img.reshape((-1,3))\n",
    "\n",
    "# convert to np.float32\n",
    "Z = np.float32(Z)\n",
    "\n",
    "# define criteria, number of clusters(K) and apply kmeans()\n",
    "criteria = (cv2.TERM_CRITERIA_EPS + cv2.TERM_CRITERIA_MAX_ITER, 10, 1.0)\n",
    "K = 8\n",
    "ret,label,center=cv2.kmeans(Z,K,None,criteria,10,cv2.KMEANS_RANDOM_CENTERS)\n",
    "\n",
    "# Now convert back into uint8, and make original image\n",
    "center = np.uint8(center)\n",
    "res = center[label.flatten()]\n",
    "res2 = res.reshape((img.shape))\n",
    "\n",
    "cv2.imshow('res2',res2)\n",
    "cv2.waitKey(0)\n",
    "cv2.destroyAllWindows()"
   ]
  },
  {
   "cell_type": "code",
   "execution_count": null,
   "id": "4dda2e53",
   "metadata": {},
   "outputs": [],
   "source": []
  },
  {
   "cell_type": "code",
   "execution_count": null,
   "id": "bd31ef09",
   "metadata": {},
   "outputs": [],
   "source": []
  },
  {
   "cell_type": "code",
   "execution_count": null,
   "id": "81e8d5f3",
   "metadata": {},
   "outputs": [],
   "source": []
  }
 ],
 "metadata": {
  "kernelspec": {
   "display_name": "Python 3 (ipykernel)",
   "language": "python",
   "name": "python3"
  },
  "language_info": {
   "codemirror_mode": {
    "name": "ipython",
    "version": 3
   },
   "file_extension": ".py",
   "mimetype": "text/x-python",
   "name": "python",
   "nbconvert_exporter": "python",
   "pygments_lexer": "ipython3",
   "version": "3.11.5"
  }
 },
 "nbformat": 4,
 "nbformat_minor": 5
}
